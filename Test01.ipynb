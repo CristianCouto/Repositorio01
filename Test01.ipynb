# Programa para sumar dos números proporcionados por el usuario

# Solicitar los números al usuario
numero1 = float(input("Introduce el primer número: "))
numero2 = float(input("Introduce el segundo número: "))

# Sumar los números
suma = numero1 + numero2

# Mostrar el resultado
print(f"La suma de {numero1} y {numero2} es {suma}")
